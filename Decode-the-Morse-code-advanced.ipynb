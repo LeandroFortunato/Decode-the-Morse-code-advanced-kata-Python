{
 "cells": [
  {
   "cell_type": "code",
   "execution_count": 8,
   "id": "c4efe2da",
   "metadata": {},
   "outputs": [],
   "source": [
    "def decode_morse(morseCode):\n",
    "\n",
    "    MORSE_CODE ={'.-': 'A', '-...': 'B', '-.-.': 'C', '-..': 'D', '.': 'E', '..-.': 'F', '--.': 'G', '....': 'H', '..': 'I', '.---': 'J', '-.-': 'K', '.-..': 'L', '--': 'M', '-.': 'N', '---': 'O', '.--.': 'P', '--.-': 'Q', '.-.': 'R', '...': 'S', '-': 'T', '..-': 'U', '...-': 'V', '.--': 'W', '-..-': 'X', '-.--': 'Y', '--..': 'Z', '-----': '0', '.----': '1', '..---': '2', '...--': '3', '....-': '4', '.....': '5', '-....': '6', '--...': '7', '---..': '8', '----.': '9', '.-.-.-': '.', '--..--': ',', '..--..': '?', '.----.': \"'\", '-.-.--': '!', '-..-.': '/', '-.--.': '(', '-.--.-': ')', '.-...': '&', '---...': ':', '-.-.-.': ';', '-...-': '=', '.-.-.': '+', '-....-': '-', '..--.-': '_', '.-..-.': '\"', '...-..-': '$', '.--.-.': '@', '...---...': 'SOS'}\n",
    "    \n",
    "    decodedMsg = ''\n",
    "\n",
    "    for morse_word in morseCode.strip().split(\" \"*3):\n",
    "        for morse_letter in morse_word.split(\" \"):\n",
    "            decodedMsg += MORSE_CODE[morse_letter]\n",
    "        decodedMsg += \" \"\n",
    "\n",
    "    return decodedMsg[:-1]\n",
    "    \n",
    "def decode_bits(bits):\n",
    "\n",
    "    if  bits.find('1') == -1:\n",
    "        return \"\"\n",
    "    \n",
    "    bits = bits[bits.find('1'):].rstrip()\n",
    "    smallestGroup = []\n",
    "\n",
    "    for bit in list('01'): \n",
    "        groupOfBits=bits.split(bit)\n",
    "\n",
    "        while groupOfBits.count('') != 0:\n",
    "              groupOfBits.remove('')\n",
    "        \n",
    "        if  bit == '0' and len(groupOfBits) == 1:\n",
    "            smallestGroup.append(len(groupOfBits[0]))\n",
    "            bits = bits.replace(\"0\",'')\n",
    "            break\n",
    "            \n",
    "        groupOfBits.sort()        \n",
    "        smallestGroup.append(len(groupOfBits[0]))\n",
    "\n",
    "    smallestGroup.sort()   \n",
    "\n",
    "    return bits.replace(\"0\" * 7 *  smallestGroup[0],\" \"*3).\\\n",
    "                replace(\"1\" * 3 *  smallestGroup[0],'-').\\\n",
    "                replace(\"1\" * 1 *  smallestGroup[0],'.').\\\n",
    "                replace(\"0\" * 3 *  smallestGroup[0],' ').\\\n",
    "                replace(\"0\" * 1 *  smallestGroup[0],'')\n",
    "\n"
   ]
  },
  {
   "cell_type": "code",
   "execution_count": null,
   "id": "9648eddd",
   "metadata": {},
   "outputs": [],
   "source": []
  }
 ],
 "metadata": {
  "kernelspec": {
   "display_name": "Python 3 (ipykernel)",
   "language": "python",
   "name": "python3"
  },
  "language_info": {
   "codemirror_mode": {
    "name": "ipython",
    "version": 3
   },
   "file_extension": ".py",
   "mimetype": "text/x-python",
   "name": "python",
   "nbconvert_exporter": "python",
   "pygments_lexer": "ipython3",
   "version": "3.9.7"
  }
 },
 "nbformat": 4,
 "nbformat_minor": 5
}
